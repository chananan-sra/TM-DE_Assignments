{
 "cells": [
  {
   "cell_type": "code",
   "id": "initial_id",
   "metadata": {
    "collapsed": true,
    "ExecuteTime": {
     "end_time": "2024-04-08T09:17:43.392320Z",
     "start_time": "2024-04-08T09:17:42.786130Z"
    }
   },
   "source": [
    "import pandas as pd\n",
    "from datetime import datetime\n",
    "import dateparser"
   ],
   "outputs": [],
   "execution_count": 1
  },
  {
   "metadata": {
    "ExecuteTime": {
     "end_time": "2024-04-08T11:06:52.479488Z",
     "start_time": "2024-04-08T11:06:52.410304Z"
    }
   },
   "cell_type": "code",
   "source": [
    "def date_parser(date_str: str) -> datetime:\n",
    "    parsed_date = dateparser.parse(date_str, settings={'TO_TIMEZONE': 'UTC'})\n",
    "    return parsed_date"
   ],
   "id": "f5bcecaa4058a7be",
   "outputs": [],
   "execution_count": 31
  },
  {
   "metadata": {
    "ExecuteTime": {
     "end_time": "2024-04-08T09:47:00.709282Z",
     "start_time": "2024-04-08T09:47:00.683167Z"
    }
   },
   "cell_type": "code",
   "source": [
    "path = 'data/dailycheckins.csv'\n",
    "cols = ['user', 'timestamp', 'hours', 'project']\n",
    "df = pd.read_csv(\n",
    "    path,\n",
    "    usecols=cols,\n",
    "    dtype={\n",
    "        'user': str,\n",
    "        'timestamp': str,\n",
    "        'hours': float,\n",
    "        'project': str,\n",
    "    }\n",
    ")\n",
    "df"
   ],
   "id": "41621a14e8c433b1",
   "outputs": [
    {
     "data": {
      "text/plain": [
       "         user                timestamp  hours               project\n",
       "0         ned  2019-09-27 00:00:00 UTC    8.0                bizdev\n",
       "1      robert      09/27/2019 12:00 AM    8.0                bizdev\n",
       "2         ned   26 сентября 2019 00:00    4.0                bizdev\n",
       "3         ned  2019-09-26 00:00:00 UTC    1.0  cultureandmanagement\n",
       "4         ned  2019-09-26 00:00:00 UTC    1.5            project-00\n",
       "...       ...                      ...    ...                   ...\n",
       "20495  robert  2010-10-04 00:00:00 UTC    2.0               transit\n",
       "20496  robert  2010-10-04 00:00:00 UTC    2.0  cultureandmanagement\n",
       "20497  robert     4 октября 2010 00:00    1.5                bizdev\n",
       "20498  robert  2010-10-04 00:00:00 UTC    1.0               transit\n",
       "20499  robert  2010-10-04 00:00:00 UTC    6.0                bizdev\n",
       "\n",
       "[20500 rows x 4 columns]"
      ],
      "text/html": [
       "<div>\n",
       "<style scoped>\n",
       "    .dataframe tbody tr th:only-of-type {\n",
       "        vertical-align: middle;\n",
       "    }\n",
       "\n",
       "    .dataframe tbody tr th {\n",
       "        vertical-align: top;\n",
       "    }\n",
       "\n",
       "    .dataframe thead th {\n",
       "        text-align: right;\n",
       "    }\n",
       "</style>\n",
       "<table border=\"1\" class=\"dataframe\">\n",
       "  <thead>\n",
       "    <tr style=\"text-align: right;\">\n",
       "      <th></th>\n",
       "      <th>user</th>\n",
       "      <th>timestamp</th>\n",
       "      <th>hours</th>\n",
       "      <th>project</th>\n",
       "    </tr>\n",
       "  </thead>\n",
       "  <tbody>\n",
       "    <tr>\n",
       "      <th>0</th>\n",
       "      <td>ned</td>\n",
       "      <td>2019-09-27 00:00:00 UTC</td>\n",
       "      <td>8.0</td>\n",
       "      <td>bizdev</td>\n",
       "    </tr>\n",
       "    <tr>\n",
       "      <th>1</th>\n",
       "      <td>robert</td>\n",
       "      <td>09/27/2019 12:00 AM</td>\n",
       "      <td>8.0</td>\n",
       "      <td>bizdev</td>\n",
       "    </tr>\n",
       "    <tr>\n",
       "      <th>2</th>\n",
       "      <td>ned</td>\n",
       "      <td>26 сентября 2019 00:00</td>\n",
       "      <td>4.0</td>\n",
       "      <td>bizdev</td>\n",
       "    </tr>\n",
       "    <tr>\n",
       "      <th>3</th>\n",
       "      <td>ned</td>\n",
       "      <td>2019-09-26 00:00:00 UTC</td>\n",
       "      <td>1.0</td>\n",
       "      <td>cultureandmanagement</td>\n",
       "    </tr>\n",
       "    <tr>\n",
       "      <th>4</th>\n",
       "      <td>ned</td>\n",
       "      <td>2019-09-26 00:00:00 UTC</td>\n",
       "      <td>1.5</td>\n",
       "      <td>project-00</td>\n",
       "    </tr>\n",
       "    <tr>\n",
       "      <th>...</th>\n",
       "      <td>...</td>\n",
       "      <td>...</td>\n",
       "      <td>...</td>\n",
       "      <td>...</td>\n",
       "    </tr>\n",
       "    <tr>\n",
       "      <th>20495</th>\n",
       "      <td>robert</td>\n",
       "      <td>2010-10-04 00:00:00 UTC</td>\n",
       "      <td>2.0</td>\n",
       "      <td>transit</td>\n",
       "    </tr>\n",
       "    <tr>\n",
       "      <th>20496</th>\n",
       "      <td>robert</td>\n",
       "      <td>2010-10-04 00:00:00 UTC</td>\n",
       "      <td>2.0</td>\n",
       "      <td>cultureandmanagement</td>\n",
       "    </tr>\n",
       "    <tr>\n",
       "      <th>20497</th>\n",
       "      <td>robert</td>\n",
       "      <td>4 октября 2010 00:00</td>\n",
       "      <td>1.5</td>\n",
       "      <td>bizdev</td>\n",
       "    </tr>\n",
       "    <tr>\n",
       "      <th>20498</th>\n",
       "      <td>robert</td>\n",
       "      <td>2010-10-04 00:00:00 UTC</td>\n",
       "      <td>1.0</td>\n",
       "      <td>transit</td>\n",
       "    </tr>\n",
       "    <tr>\n",
       "      <th>20499</th>\n",
       "      <td>robert</td>\n",
       "      <td>2010-10-04 00:00:00 UTC</td>\n",
       "      <td>6.0</td>\n",
       "      <td>bizdev</td>\n",
       "    </tr>\n",
       "  </tbody>\n",
       "</table>\n",
       "<p>20500 rows × 4 columns</p>\n",
       "</div>"
      ]
     },
     "execution_count": 28,
     "metadata": {},
     "output_type": "execute_result"
    }
   ],
   "execution_count": 28
  },
  {
   "metadata": {
    "ExecuteTime": {
     "end_time": "2024-04-08T11:07:22.484909Z",
     "start_time": "2024-04-08T11:06:54.622545Z"
    }
   },
   "cell_type": "code",
   "source": [
    "converted_df = df\n",
    "converted_df['timestamp'] = converted_df['timestamp'].map(date_parser)\n",
    "converted_df"
   ],
   "id": "e503ce2621b2053d",
   "outputs": [
    {
     "data": {
      "text/plain": [
       "         user           timestamp  hours               project\n",
       "0         ned 2019-09-26 17:00:00    8.0                bizdev\n",
       "1      robert 2019-09-26 17:00:00    8.0                bizdev\n",
       "2         ned 2019-09-25 17:00:00    4.0                bizdev\n",
       "3         ned 2019-09-25 17:00:00    1.0  cultureandmanagement\n",
       "4         ned 2019-09-25 17:00:00    1.5            project-00\n",
       "...       ...                 ...    ...                   ...\n",
       "20495  robert 2010-10-03 17:00:00    2.0               transit\n",
       "20496  robert 2010-10-03 17:00:00    2.0  cultureandmanagement\n",
       "20497  robert 2010-10-03 17:00:00    1.5                bizdev\n",
       "20498  robert 2010-10-03 17:00:00    1.0               transit\n",
       "20499  robert 2010-10-03 17:00:00    6.0                bizdev\n",
       "\n",
       "[20495 rows x 4 columns]"
      ],
      "text/html": [
       "<div>\n",
       "<style scoped>\n",
       "    .dataframe tbody tr th:only-of-type {\n",
       "        vertical-align: middle;\n",
       "    }\n",
       "\n",
       "    .dataframe tbody tr th {\n",
       "        vertical-align: top;\n",
       "    }\n",
       "\n",
       "    .dataframe thead th {\n",
       "        text-align: right;\n",
       "    }\n",
       "</style>\n",
       "<table border=\"1\" class=\"dataframe\">\n",
       "  <thead>\n",
       "    <tr style=\"text-align: right;\">\n",
       "      <th></th>\n",
       "      <th>user</th>\n",
       "      <th>timestamp</th>\n",
       "      <th>hours</th>\n",
       "      <th>project</th>\n",
       "    </tr>\n",
       "  </thead>\n",
       "  <tbody>\n",
       "    <tr>\n",
       "      <th>0</th>\n",
       "      <td>ned</td>\n",
       "      <td>2019-09-26 17:00:00</td>\n",
       "      <td>8.0</td>\n",
       "      <td>bizdev</td>\n",
       "    </tr>\n",
       "    <tr>\n",
       "      <th>1</th>\n",
       "      <td>robert</td>\n",
       "      <td>2019-09-26 17:00:00</td>\n",
       "      <td>8.0</td>\n",
       "      <td>bizdev</td>\n",
       "    </tr>\n",
       "    <tr>\n",
       "      <th>2</th>\n",
       "      <td>ned</td>\n",
       "      <td>2019-09-25 17:00:00</td>\n",
       "      <td>4.0</td>\n",
       "      <td>bizdev</td>\n",
       "    </tr>\n",
       "    <tr>\n",
       "      <th>3</th>\n",
       "      <td>ned</td>\n",
       "      <td>2019-09-25 17:00:00</td>\n",
       "      <td>1.0</td>\n",
       "      <td>cultureandmanagement</td>\n",
       "    </tr>\n",
       "    <tr>\n",
       "      <th>4</th>\n",
       "      <td>ned</td>\n",
       "      <td>2019-09-25 17:00:00</td>\n",
       "      <td>1.5</td>\n",
       "      <td>project-00</td>\n",
       "    </tr>\n",
       "    <tr>\n",
       "      <th>...</th>\n",
       "      <td>...</td>\n",
       "      <td>...</td>\n",
       "      <td>...</td>\n",
       "      <td>...</td>\n",
       "    </tr>\n",
       "    <tr>\n",
       "      <th>20495</th>\n",
       "      <td>robert</td>\n",
       "      <td>2010-10-03 17:00:00</td>\n",
       "      <td>2.0</td>\n",
       "      <td>transit</td>\n",
       "    </tr>\n",
       "    <tr>\n",
       "      <th>20496</th>\n",
       "      <td>robert</td>\n",
       "      <td>2010-10-03 17:00:00</td>\n",
       "      <td>2.0</td>\n",
       "      <td>cultureandmanagement</td>\n",
       "    </tr>\n",
       "    <tr>\n",
       "      <th>20497</th>\n",
       "      <td>robert</td>\n",
       "      <td>2010-10-03 17:00:00</td>\n",
       "      <td>1.5</td>\n",
       "      <td>bizdev</td>\n",
       "    </tr>\n",
       "    <tr>\n",
       "      <th>20498</th>\n",
       "      <td>robert</td>\n",
       "      <td>2010-10-03 17:00:00</td>\n",
       "      <td>1.0</td>\n",
       "      <td>transit</td>\n",
       "    </tr>\n",
       "    <tr>\n",
       "      <th>20499</th>\n",
       "      <td>robert</td>\n",
       "      <td>2010-10-03 17:00:00</td>\n",
       "      <td>6.0</td>\n",
       "      <td>bizdev</td>\n",
       "    </tr>\n",
       "  </tbody>\n",
       "</table>\n",
       "<p>20495 rows × 4 columns</p>\n",
       "</div>"
      ]
     },
     "execution_count": 32,
     "metadata": {},
     "output_type": "execute_result"
    }
   ],
   "execution_count": 32
  },
  {
   "metadata": {
    "ExecuteTime": {
     "end_time": "2024-04-08T09:48:47.924835Z",
     "start_time": "2024-04-08T09:48:47.914432Z"
    }
   },
   "cell_type": "code",
   "source": "converted_df.dropna(inplace=True)",
   "id": "142c68a235901339",
   "outputs": [],
   "execution_count": 30
  },
  {
   "metadata": {
    "ExecuteTime": {
     "end_time": "2024-04-08T11:23:46.841593Z",
     "start_time": "2024-04-08T11:23:46.835905Z"
    }
   },
   "cell_type": "code",
   "source": [
    "dtype={\n",
    "    'user': str,\n",
    "    'timestamp': str,\n",
    "    'hours': float,\n",
    "    'project': str,\n",
    "}\n",
    "dtype_keys = [*dtype]\n",
    "dtype_values = list(dtype.values())\n",
    "print(dtype_keys, dtype_values)"
   ],
   "id": "715c0e4ad55c7c38",
   "outputs": [
    {
     "name": "stdout",
     "output_type": "stream",
     "text": [
      "['user', 'timestamp', 'hours', 'project'] [<class 'str'>, <class 'str'>, <class 'float'>, <class 'str'>]\n"
     ]
    }
   ],
   "execution_count": 35
  },
  {
   "metadata": {},
   "cell_type": "code",
   "outputs": [],
   "execution_count": null,
   "source": "",
   "id": "4c864a4c60096483"
  }
 ],
 "metadata": {
  "kernelspec": {
   "display_name": "Python 3",
   "language": "python",
   "name": "python3"
  },
  "language_info": {
   "codemirror_mode": {
    "name": "ipython",
    "version": 2
   },
   "file_extension": ".py",
   "mimetype": "text/x-python",
   "name": "python",
   "nbconvert_exporter": "python",
   "pygments_lexer": "ipython2",
   "version": "2.7.6"
  }
 },
 "nbformat": 4,
 "nbformat_minor": 5
}
